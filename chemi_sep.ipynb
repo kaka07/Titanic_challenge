{
 "cells": [
  {
   "cell_type": "code",
   "execution_count": 1,
   "metadata": {},
   "outputs": [],
   "source": [
    "import numpy as np\n",
    "import matplotlib.pyplot as plt\n",
    "import pandas as pd"
   ]
  },
  {
   "cell_type": "code",
   "execution_count": 2,
   "metadata": {},
   "outputs": [],
   "source": [
    "X=pd.read_csv('Logistic_X_Train.csv')\n",
    "Y=pd.read_csv('Logistic_Y_Train.csv')"
   ]
  },
  {
   "cell_type": "code",
   "execution_count": 3,
   "metadata": {},
   "outputs": [],
   "source": [
    "X_train=np.array(X)\n",
    "Y_train=np.array(Y)"
   ]
  },
  {
   "cell_type": "code",
   "execution_count": 4,
   "metadata": {},
   "outputs": [
    {
     "name": "stdout",
     "output_type": "stream",
     "text": [
      "(3000, 3)\n",
      "(3000, 1)\n"
     ]
    }
   ],
   "source": [
    "print(X_train.shape)\n",
    "print(Y_train.shape)"
   ]
  },
  {
   "cell_type": "code",
   "execution_count": 5,
   "metadata": {},
   "outputs": [],
   "source": [
    "def sigmoid(z):\n",
    "    return 1/(1+np.exp(-z))"
   ]
  },
  {
   "cell_type": "code",
   "execution_count": 6,
   "metadata": {},
   "outputs": [],
   "source": [
    "def hypothesis(x,theta):\n",
    "    return sigmoid(np.dot(x,theta))"
   ]
  },
  {
   "cell_type": "code",
   "execution_count": 7,
   "metadata": {},
   "outputs": [],
   "source": [
    "def error(Y,X,theta):\n",
    "    m = X.shape[0]\n",
    "    total_error = 0.0\n",
    "    \n",
    "    for i in range(m):\n",
    "        y_hat = hypothesis(X[i],theta)\n",
    "        total_error += (Y[i]*np.log2(y_hat)+(1-Y[i])*np.log2(1-y_hat)) \n",
    "        \n",
    "    return total_error/m #Average Loss"
   ]
  },
  {
   "cell_type": "code",
   "execution_count": 8,
   "metadata": {},
   "outputs": [],
   "source": [
    "def get_grad(Y,X,theta):\n",
    "    \n",
    "    grad = np.zeros(theta.shape)\n",
    "    m = X.shape[0]\n",
    "    for i in range(m):\n",
    "        y_hat = hypothesis(X[i],theta)\n",
    "        x = X[i].reshape((-1,1))\n",
    "        grad += (Y[i] - y_hat)*x\n",
    "        \n",
    "        \n",
    "    return grad/m #Average Gradient"
   ]
  },
  {
   "cell_type": "code",
   "execution_count": 9,
   "metadata": {},
   "outputs": [],
   "source": [
    "def grad_descent(X,Y,learning_rate=0.5):\n",
    "    theta = np.zeros((X.shape[1],1))\n",
    "    \n",
    "    error_list = []\n",
    "    \n",
    "    for i in range(500):\n",
    "        theta = theta + learning_rate*get_grad(Y,X,theta)\n",
    "        e = error(Y,X,theta)\n",
    "        error_list.append(e)\n",
    "        \n",
    "    return theta,error_list"
   ]
  },
  {
   "cell_type": "code",
   "execution_count": 10,
   "metadata": {},
   "outputs": [],
   "source": [
    "theta,error_list = grad_descent(X_train,Y_train)"
   ]
  },
  {
   "cell_type": "code",
   "execution_count": 11,
   "metadata": {},
   "outputs": [
    {
     "data": {
      "image/png": "[encoded data removed]",
      "text/plain": [
       "<Figure size 432x288 with 1 Axes>"
      ]
     },
     "metadata": {
      "needs_background": "light"
     },
     "output_type": "display_data"
    }
   ],
   "source": [
    "plt.plot(error_list)\n",
    "plt.show()"
   ]
  },
  {
   "cell_type": "code",
   "execution_count": 12,
   "metadata": {},
   "outputs": [],
   "source": [
    "def predict(xtest,theta):\n",
    "    prob = hypothesis(xtest,theta)\n",
    "    if prob<=0.5:\n",
    "        return 0\n",
    "    else:\n",
    "        return 1"
   ]
  },
  {
   "cell_type": "code",
   "execution_count": 13,
   "metadata": {},
   "outputs": [],
   "source": [
    "Xtest=pd.read_csv('Logistic_X_Test.csv')"
   ]
  },
  {
   "cell_type": "code",
   "execution_count": 14,
   "metadata": {},
   "outputs": [
    {
     "name": "stdout",
     "output_type": "stream",
     "text": [
      "(1000, 3)\n",
      "           f1        f2        f3\n",
      "0   -0.767508 -0.261859 -2.514831\n",
      "1   -1.241653  1.449001 -0.413089\n",
      "2    1.925270  1.931761  1.342619\n",
      "3   -1.298255  1.049761 -0.527319\n",
      "4   -0.964712  0.938088 -1.186328\n",
      "5   -2.319673 -0.656705  0.017851\n",
      "6    1.559037  1.113581  1.739047\n",
      "7   -1.019072  0.876992 -1.052273\n",
      "8    2.018488  2.298813  1.644282\n",
      "9    1.387152  1.786612  0.706509\n",
      "10   1.532644  0.493444  0.929856\n",
      "11  -1.458742  0.178028 -0.676635\n",
      "12  -0.571908  0.553158 -2.306125\n",
      "13  -1.047074  1.270108 -0.589620\n",
      "14   0.317881  2.764041 -1.003112\n",
      "15   0.903994  0.824336  1.027109\n",
      "16   0.259179  1.601500 -2.648529\n",
      "17   1.170982  0.821742  1.183028\n",
      "18  -0.920701  2.012069  0.107073\n",
      "19  -0.266036  0.436402  0.399078\n",
      "20  -1.565068  1.096901  0.293253\n",
      "21   0.564346 -0.405564  1.181600\n",
      "22  -2.017068 -0.451514 -0.397406\n",
      "23   0.853708  1.261284  0.633632\n",
      "24  -1.239647  0.293515 -1.286614\n",
      "25  -1.372983  0.552186 -1.403173\n",
      "26  -1.029075 -1.551607 -0.011513\n",
      "27   1.096009  1.537264  1.496210\n",
      "28   2.508364  2.212961  1.676292\n",
      "29  -0.744648  1.776051 -0.687180\n",
      "..        ...       ...       ...\n",
      "970 -0.820028  2.093841 -0.161093\n",
      "971 -1.988196 -0.573566 -0.584262\n",
      "972  1.286089  1.018322  1.347158\n",
      "973 -0.475219  0.459133 -2.429071\n",
      "974 -0.322060 -0.606782  0.507954\n",
      "975 -0.735695 -0.347448 -0.089997\n",
      "976  1.099920  0.682394  1.487735\n",
      "977 -0.451810  1.733771 -1.173977\n",
      "978  1.136712  1.155158  0.878780\n",
      "979  1.832887  2.088275  1.760954\n",
      "980 -0.939774  1.628823 -0.329370\n",
      "981  0.563192  1.135393  0.529248\n",
      "982 -1.348826  0.979726 -0.791085\n",
      "983 -0.862464  0.386974 -1.618894\n",
      "984  1.385189  0.542607  1.718162\n",
      "985 -2.029740  0.676303  0.040606\n",
      "986 -0.997642  0.984713 -1.087570\n",
      "987  2.433000  2.920667  1.528398\n",
      "988 -2.021500 -0.084284 -0.261277\n",
      "989 -1.336264 -0.795847 -1.641797\n",
      "990  1.732191  2.276199  1.269045\n",
      "991  0.218202  0.736558  0.319934\n",
      "992  1.442962  1.692324  1.385493\n",
      "993 -2.610720 -1.166614 -0.598507\n",
      "994 -1.768542  0.821646 -0.155950\n",
      "995  2.877461  3.043965  2.308939\n",
      "996  3.128835  3.115084  1.856309\n",
      "997 -1.186969  0.947347 -0.786386\n",
      "998 -0.532324  1.845170 -0.993550\n",
      "999  0.540232  0.580994  0.386649\n",
      "\n",
      "[1000 rows x 3 columns]\n"
     ]
    }
   ],
   "source": [
    "print(Xtest.shape)\n",
    "print(Xtest)"
   ]
  },
  {
   "cell_type": "code",
   "execution_count": 15,
   "metadata": {},
   "outputs": [],
   "source": [
    "X_test=np.array(Xtest)"
   ]
  },
  {
   "cell_type": "code",
   "execution_count": 16,
   "metadata": {},
   "outputs": [
    {
     "name": "stdout",
     "output_type": "stream",
     "text": [
      "(1000, 3)\n",
      "[[-0.76750773 -0.2618595  -2.51483147]\n",
      " [-1.24165258  1.44900144 -0.4130893 ]\n",
      " [ 1.92527007  1.93176097  1.34261917]\n",
      " ...\n",
      " [-1.18696873  0.94734729 -0.78638597]\n",
      " [-0.53232395  1.84516978 -0.9935503 ]\n",
      " [ 0.54023217  0.58099406  0.38664901]]\n"
     ]
    }
   ],
   "source": [
    "print(X_test.shape)\n",
    "print(X_test)"
   ]
  },
  {
   "cell_type": "code",
   "execution_count": 17,
   "metadata": {},
   "outputs": [],
   "source": [
    "Y_Pred = np.array([predict(X_test[i],theta) for i in range(X_test.shape[0])])"
   ]
  },
  {
   "cell_type": "code",
   "execution_count": 18,
   "metadata": {},
   "outputs": [],
   "source": [
    "df = pd.DataFrame(data=Y_Pred , columns=[\"label\"])\n",
    "df.to_csv(\"Chemical_Separation.csv\",index=False)"
   ]
  },
  {
   "cell_type": "code",
   "execution_count": null,
   "metadata": {},
   "outputs": [],
   "source": []
  }
 ],
 "metadata": {
  "kernelspec": {
   "display_name": "Python 3",
   "language": "python",
   "name": "python3"
  },
  "language_info": {
   "codemirror_mode": {
    "name": "ipython",
    "version": 3
   },
   "file_extension": ".py",
   "mimetype": "text/x-python",
   "name": "python",
   "nbconvert_exporter": "python",
   "pygments_lexer": "ipython3",
   "version": "3.7.3"
  }
 },
 "nbformat": 4,
 "nbformat_minor": 2
}
